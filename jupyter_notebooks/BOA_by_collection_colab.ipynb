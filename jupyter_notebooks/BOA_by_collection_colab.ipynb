{
  "nbformat": 4,
  "nbformat_minor": 0,
  "metadata": {
    "anaconda-cloud": {},
    "kernelspec": {
      "display_name": "Python 3",
      "language": "python",
      "name": "python3"
    },
    "language_info": {
      "codemirror_mode": {
        "name": "ipython",
        "version": 3
      },
      "file_extension": ".py",
      "mimetype": "text/x-python",
      "name": "python",
      "nbconvert_exporter": "python",
      "pygments_lexer": "ipython3",
      "version": "3.9.2"
    },
    "colab": {
      "name": "BOA_by_collection.ipynb",
      "provenance": []
    }
  },
  "cells": [
    {
      "cell_type": "markdown",
      "metadata": {
        "id": "s7XtVkd_XLBy"
      },
      "source": [
        "# Multi-Sensor Atmospheric Correction in Google Earth Engine by Collection"
      ]
    },
    {
      "cell_type": "markdown",
      "metadata": {
        "id": "6DclwFwfXLB1"
      },
      "source": [
        "**Description:** This script allows to do atmospheric correction for list of images of Sentinel-2 and Landsat sensors, especifically for images over coastal or oceanic areas. Some atmospheric correction settings can be modified in the *parameters.py* module to work with images over inland areas (See line 36 in that module). The script does AC automatically by providing the right satellite mission (**mission**), list of images (**imageID**), and a specific GEE Asset (**assetID**) to export processed images to your personal GEE account.<br/>\n",
        "More sensors can be added by modifying the *mission_specifics.py* and *parameters.py* modules to properly work with the available collections in GEE and [Py6S](https://github.com/robintw/Py6S/blob/master/Py6S/Params/wavelength.py).<br/>\n",
        "\n",
        "Script modified from https://github.com/samsammurphy/gee-atmcorr-S2<br/>\n",
        "By Luis Lizcano-Sandoval<br/>\n",
        "College of Marine Science, University of South Florida<br/>\n",
        "luislizcanos@usf.edu<br/>\n",
        "Created: 10/30/2020<br/>\n",
        "Updated: 09/02/2021"
      ]
    },
    {
      "cell_type": "markdown",
      "metadata": {
        "id": "H2eHPlEYXn08"
      },
      "source": [
        "### **Set Colab, install missing libraries, and clone github repo.**\n"
      ]
    },
    {
      "cell_type": "code",
      "metadata": {
        "id": "kBSgNXv9XaPJ",
        "outputId": "6cd6a9df-b7af-4735-8917-442c399f8cd9",
        "colab": {
          "base_uri": "https://localhost:8080/"
        }
      },
      "source": [
        "## Run this cell to mount your Google Drive\n",
        "import os, sys\n",
        "from google.colab import drive\n",
        "drive.mount('/content/drive')\n",
        "nb_path = '/content/notebooks'\n",
        "os.symlink('/content/drive/My Drive/Colab Notebooks', nb_path)\n",
        "sys.path.insert(0, nb_path)  # or append(nb_path)"
      ],
      "execution_count": 1,
      "outputs": [
        {
          "output_type": "stream",
          "name": "stdout",
          "text": [
            "Mounted at /content/drive\n"
          ]
        }
      ]
    },
    {
      "cell_type": "code",
      "metadata": {
        "id": "Q2i-tETwXcdP",
        "outputId": "9cd89cfc-fd09-4c57-b1d8-b398e128b8ab",
        "colab": {
          "base_uri": "https://localhost:8080/"
        }
      },
      "source": [
        "## Authenticate your EE account\n",
        "!earthengine authenticate"
      ],
      "execution_count": 2,
      "outputs": [
        {
          "output_type": "stream",
          "name": "stdout",
          "text": [
            "WARNING:tensorflow:From /usr/local/lib/python3.7/dist-packages/tensorflow/python/compat/v2_compat.py:101: disable_resource_variables (from tensorflow.python.ops.variable_scope) is deprecated and will be removed in a future version.\n",
            "Instructions for updating:\n",
            "non-resource variables are not supported in the long term\n",
            "To authorize access needed by Earth Engine, open the following URL in a web browser and follow the instructions. If the web browser does not start automatically, please manually browse the URL below.\n",
            "\n",
            "    https://accounts.google.com/o/oauth2/auth?client_id=517222506229-vsmmajv00ul0bs7p89v5m89qs8eb9359.apps.googleusercontent.com&scope=https%3A%2F%2Fwww.googleapis.com%2Fauth%2Fearthengine+https%3A%2F%2Fwww.googleapis.com%2Fauth%2Fdevstorage.full_control&redirect_uri=urn%3Aietf%3Awg%3Aoauth%3A2.0%3Aoob&response_type=code&code_challenge=Z6gTXVonz2vYNvco3E4CryHhrzuot8WPqZXGr8sJMn0&code_challenge_method=S256\n",
            "\n",
            "The authorization workflow will generate a code, which you should paste in the box below. \n",
            "Enter verification code: 4/1AX4XfWgcaaO2dRSFPD5H4f6VwVe-sv8SutTsyUVlDfNeVQdTjmQ8Ef3eyiw\n",
            "\n",
            "Successfully saved authorization token.\n"
          ]
        }
      ]
    },
    {
      "cell_type": "code",
      "metadata": {
        "id": "hBt2CAa1XeM8",
        "outputId": "37558acf-9968-4871-966a-380be6c8df91",
        "colab": {
          "base_uri": "https://localhost:8080/"
        }
      },
      "source": [
        "## Install some libraries:\n",
        "!pip install Py6S"
      ],
      "execution_count": 5,
      "outputs": [
        {
          "output_type": "stream",
          "name": "stdout",
          "text": [
            "Collecting Py6S\n",
            "  Downloading Py6S-1.9.0.tar.gz (66 kB)\n",
            "\u001b[?25l\r\u001b[K     |█████                           | 10 kB 23.8 MB/s eta 0:00:01\r\u001b[K     |█████████▉                      | 20 kB 29.8 MB/s eta 0:00:01\r\u001b[K     |██████████████▊                 | 30 kB 15.1 MB/s eta 0:00:01\r\u001b[K     |███████████████████▋            | 40 kB 10.8 MB/s eta 0:00:01\r\u001b[K     |████████████████████████▌       | 51 kB 4.5 MB/s eta 0:00:01\r\u001b[K     |█████████████████████████████▍  | 61 kB 4.6 MB/s eta 0:00:01\r\u001b[K     |████████████████████████████████| 66 kB 2.7 MB/s \n",
            "\u001b[?25h  Installing build dependencies ... \u001b[?25l\u001b[?25hdone\n",
            "  Getting requirements to build wheel ... \u001b[?25l\u001b[?25hdone\n",
            "    Preparing wheel metadata ... \u001b[?25l\u001b[?25hdone\n",
            "Collecting pysolar>=0.9\n",
            "  Downloading pysolar-0.10-py3-none-any.whl (47 kB)\n",
            "\u001b[K     |████████████████████████████████| 47 kB 3.7 MB/s \n",
            "\u001b[?25hRequirement already satisfied: scipy in /usr/local/lib/python3.7/dist-packages (from Py6S) (1.4.1)\n",
            "Requirement already satisfied: numpy>=1.13.3 in /usr/local/lib/python3.7/dist-packages (from scipy->Py6S) (1.19.5)\n",
            "Building wheels for collected packages: Py6S\n",
            "  Building wheel for Py6S (PEP 517) ... \u001b[?25l\u001b[?25hdone\n",
            "  Created wheel for Py6S: filename=Py6S-1.9.0-py3-none-any.whl size=76995 sha256=b01519f9bd70977d7982aa29e24f37c0eb1f68a6d018d101d2ffe68eed22cd0f\n",
            "  Stored in directory: /root/.cache/pip/wheels/12/62/93/25325c89e4debfbcfd6bdde38272d7971b7af53cc6e6d85599\n",
            "Successfully built Py6S\n",
            "Installing collected packages: pysolar, Py6S\n",
            "Successfully installed Py6S-1.9.0 pysolar-0.10\n"
          ]
        }
      ]
    },
    {
      "cell_type": "code",
      "metadata": {
        "id": "UmQ3AorqXeu5",
        "outputId": "8becb1ed-fccf-47f1-8073-1504da1307dc",
        "colab": {
          "base_uri": "https://localhost:8080/"
        }
      },
      "source": [
        "## Clone github repo:\n",
        "!git clone https://github.com/luislizcano/gee-atmcorr-py6s.git"
      ],
      "execution_count": 6,
      "outputs": [
        {
          "output_type": "stream",
          "name": "stdout",
          "text": [
            "Cloning into 'gee-atmcorr-py6s'...\n",
            "remote: Enumerating objects: 183, done.\u001b[K\n",
            "remote: Counting objects: 100% (183/183), done.\u001b[K\n",
            "remote: Compressing objects: 100% (179/179), done.\u001b[K\n",
            "remote: Total 183 (delta 90), reused 0 (delta 0), pack-reused 0\u001b[K\n",
            "Receiving objects: 100% (183/183), 3.08 MiB | 14.80 MiB/s, done.\n",
            "Resolving deltas: 100% (90/90), done.\n"
          ]
        }
      ]
    },
    {
      "cell_type": "markdown",
      "metadata": {
        "id": "y4fR0waQXLB2"
      },
      "source": [
        "### Import modules and initialize Earth Engine\n",
        "\n"
      ]
    },
    {
      "cell_type": "code",
      "metadata": {
        "id": "VYa9HB-xXLB2"
      },
      "source": [
        "import os, sys\n",
        "sys.path.insert(0,'/content/gee-atmcorr-py6s')\n",
        "sys.path.append('/content/gee-atmcorr-py6s/bin')\n",
        "import ee\n",
        "from Py6S import *\n",
        "import datetime\n",
        "import math\n",
        "import os\n",
        "import sys\n",
        "sys.path.append(os.path.join(os.path.dirname(os.getcwd()),'bin'))\n",
        "import mission_specifics as mn\n",
        "import getBOA\n",
        "import timeit\n",
        "\n",
        "ee.Initialize()"
      ],
      "execution_count": 8,
      "outputs": []
    },
    {
      "cell_type": "markdown",
      "metadata": {
        "id": "0D0BvXGMXLB3"
      },
      "source": [
        "### Earth Engine Collections\n",
        "Set the collection of interest using one this specific categories:\n"
      ]
    },
    {
      "cell_type": "code",
      "metadata": {
        "id": "fxFLh4I5XLB4"
      },
      "source": [
        "mission = 'Sentinel2'\n",
        "# mission = 'Landsat8'\n",
        "#mission = 'Landsat7'\n",
        "# mission = 'Landsat5'\n",
        "\n",
        "## Define user asset and folder to save output in GEE:\n",
        "userAsset = 'users/lizcanosandoval/BOA/'\n",
        "outputFolder = 'FL_19'"
      ],
      "execution_count": null,
      "outputs": []
    },
    {
      "cell_type": "markdown",
      "metadata": {
        "id": "5TkC2UqUXLB4"
      },
      "source": [
        "### Image ID's\n",
        "Paste the list of image IDs."
      ]
    },
    {
      "cell_type": "code",
      "metadata": {
        "id": "7uNsYaoGXLB5"
      },
      "source": [
        "imageID = ['20191207T160509_20191207T160505_T17RNH',\n",
        "        '20190411T160519_20190411T160516_T17RNH'] #Sentinel-2\n",
        "# imageID = ['LC08_015043_20191015', 'LC08_015043_20190727'] #Landsat8\n",
        "# imageID = ['LE07_015043_20191023','LE07_015043_20191108',\n",
        "#           'LE07_017040_20190223','LE07_017040_20191005'] #Landsat7\n",
        "# imageID = ['LT05_015043_19901015','LT05_015043_19901218','LT05_017040_19901029',\n",
        "#           'LT05_017040_19901114','LT05_015043_19890521','LT05_017040_19891111'] #Landsat5\n",
        "\n",
        "## Sort list\n",
        "imageID = sorted(imageID)\n",
        "print(sorted(imageID))"
      ],
      "execution_count": null,
      "outputs": []
    },
    {
      "cell_type": "markdown",
      "metadata": {
        "id": "ZkWgwI8TXLB6"
      },
      "source": [
        "### Load Collection\n",
        "Get the respective scenes from the collection"
      ]
    },
    {
      "cell_type": "code",
      "metadata": {
        "scrolled": true,
        "id": "QizgqxAZXLB6"
      },
      "source": [
        "# Load collection\n",
        "collection = ee.ImageCollection(mn.eeCollection(mission)).filter(ee.Filter.inList('system:index',imageID))\n",
        "firstImage = collection.first()\n",
        "count = collection.size()\n",
        "print('Number of images in this collection: ', count.getInfo())\n",
        "\n",
        "#  ImageCollection to List           \n",
        "col_list = collection.toList(count) #ee.List\n",
        "#col_size = col_list.size().getInfo() #Python list\n",
        "#print(col_size)\n",
        "\n",
        "# Select an image for debugging\n",
        "for i in range(count.getInfo()):\n",
        "    image = col_list.get(i)#first()\n",
        "    print('Image '+str(i)+':', image.getInfo()['properties']['system:index'])\n",
        "\n",
        "# Date\n",
        "dateString = datetime.datetime.utcfromtimestamp(firstImage.get('system:time_start').getInfo()/1000).strftime(\"%Y-%m-%d\")\n",
        "print('Date-First Image: ',dateString)\n",
        "\n",
        "print('Mission: ', mission)"
      ],
      "execution_count": null,
      "outputs": []
    },
    {
      "cell_type": "markdown",
      "metadata": {
        "id": "ZapLqLtwXLB7"
      },
      "source": [
        "### Atmospheric Correction\n",
        "Available bands available for atmospheric correction for each sensor, according to the [Py6S module](https://github.com/robintw/Py6S/blob/master/Py6S/Params/wavelength.py): <br/>\n",
        "* **Sentinel2:** ['B1', 'B2', 'B3', 'B4', 'B5', 'B6', 'B7', 'B8', 'B8A', 'B9', 'B10', 'B11', 'B12'] {Can Skip B6,B7,B8A,B9,B10},<br/>\n",
        "* **Landsat8:** ['B1','B2','B3','B4','B5','B6','B7','B8','B9'] {B10,B11 - Thermal}{Can Skip B8,B9,B11},<br/>\n",
        "* **Landsat7:** ['B1','B2','B3','B4','B5','B7'] {B6_VCID_1 - Thermal},<br/>\n",
        "* **Landsat5:** ['B1','B2','B3','B4','B5','B7'] {B6 - Thermal},<br/>\n",
        "* **Landsat4:** ['B1','B2','B3','B4','B5','B7'] {B6 - Thermal}<br/>\n",
        "\n",
        "The respective QA band will be preserved after the correction:<br/>\n",
        "* **Sentinel2:** 'QA60',<br/>\n",
        "* **Landsat sensors:** 'BQA'"
      ]
    },
    {
      "cell_type": "markdown",
      "metadata": {
        "id": "_ETeffw9XLB8"
      },
      "source": [
        "**NOTE:** Sentinel's B8 might show negative reflectances on coastal and oceanic areas, but not on cloudy pixels, so it does not affect cloud masking procedures. I only use bands B8, B11, B12 for cloud masking. If you need to use these bands for other purposes just check the areas of negative values are not large, otherwise I would not recommend to use them (it is up to you). The negative reflectances might be due to overestimations of aerosols at sea-level in coastal areas and suspendend particles in water. Band B10 should not be provided as a surface reflectance output, because it does not provide information on the surface but on the cirrus clouds [[Main-Knorn et al. 2017]](https://www.researchgate.net/publication/320231869_Sen2Cor_for_Sentinel-2). Landsat sensors may show a similar behaviour in infrared bands. "
      ]
    },
    {
      "cell_type": "code",
      "metadata": {
        "id": "AWl98OEmXLB8"
      },
      "source": [
        "## Default bands of interest:\n",
        "if 'Sentinel' in mission:\n",
        "    bands = ['B1','B2','B3','B4','B5','B8','B11','B12'] #Sentinel-2\n",
        "elif 'Landsat8' in mission:\n",
        "    bands = ['B1','B2','B3','B4','B5','B6','B7'] #Landsat-8\n",
        "else:\n",
        "    bands = ['B1','B2','B3','B4','B5','B7'] #Landsat-7/5"
      ],
      "execution_count": null,
      "outputs": []
    },
    {
      "cell_type": "markdown",
      "metadata": {
        "id": "4lTJtjvtXLB9"
      },
      "source": [
        "Run atmospheric correction (for Sentinel, it takes ~20s per image (8 bands))."
      ]
    },
    {
      "cell_type": "code",
      "metadata": {
        "id": "V2TGYOciXLB9"
      },
      "source": [
        "%%time\n",
        "boaCollection = getBOA.forCollection(collection, mission, bands, imageID)\n",
        "\n",
        "## Verify that each band is present in the output:\n",
        "print('Output bands: ', boaCollection.first().bandNames().getInfo())"
      ],
      "execution_count": null,
      "outputs": []
    },
    {
      "cell_type": "markdown",
      "metadata": {
        "id": "Uv22lhtZXLB9"
      },
      "source": [
        "Rename the variable 'mission' if working with Sentinel-2"
      ]
    },
    {
      "cell_type": "code",
      "metadata": {
        "id": "7J_qKDrWXLB-"
      },
      "source": [
        "# If working with S-2, then identify whether the sensor is Sentinel-2A or Sentinel-2B, and rename the variable 'mission'\n",
        "if 'Sentinel2' == mission:\n",
        "    mission = str(firstImage.getInfo()['properties']['SPACECRAFT_NAME'])"
      ],
      "execution_count": null,
      "outputs": []
    },
    {
      "cell_type": "markdown",
      "metadata": {
        "id": "ePY8WlXHXLB-"
      },
      "source": [
        "### Display results\n",
        "Shows an image as example."
      ]
    },
    {
      "cell_type": "code",
      "metadata": {
        "id": "7bNIZOMJXLB-"
      },
      "source": [
        "from IPython.display import display, Image\n",
        "\n",
        "boaImage = boaCollection.first()\n",
        "region = boaImage.geometry().buffer(5000).bounds().getInfo()['coordinates']\n",
        "\n",
        "# RGB Bands\n",
        "channels = []\n",
        "if 'Sentinel' in mission or 'Landsat8' == mission:\n",
        "    channels = ['B4','B3','B2'] #For Sentinel & Landsat8\n",
        "else:\n",
        "    channels = ['B3','B2','B1'] #For Landsat7-5-4\n",
        "\n",
        "# Display images:\n",
        "original = Image(url=mn.TOA(firstImage,mission).select(channels).getThumbUrl({\n",
        "    'dimensions': '1000x1000',\n",
        "    'min':0,\n",
        "    'max':0.25\n",
        "    }))\n",
        "\n",
        "corrected = Image(url=boaImage.select(channels).getThumbUrl({\n",
        "    'dimensions': '1000x1000',\n",
        "    'min':0,\n",
        "    'max':0.25,\n",
        "    'gamma':1.8\n",
        "    }))\n",
        "\n",
        "display(original, corrected)"
      ],
      "execution_count": null,
      "outputs": []
    },
    {
      "cell_type": "markdown",
      "metadata": {
        "id": "NijHfJPvXLB-"
      },
      "source": [
        "### Export to Asset"
      ]
    },
    {
      "cell_type": "markdown",
      "metadata": {
        "id": "bN-EPlx9XLB_"
      },
      "source": [
        "NOTE: \n",
        "* Be aware that each band will be resampled at the scale used to export the image. This will impact the size of the exported file.\n",
        "* A Sentinel-2 image with 8 bands at 10m res each can occupy ~1.5 gb.\n",
        "* A Sentinel-2 image with 8 bands can take ~4-8 min to ingest."
      ]
    },
    {
      "cell_type": "code",
      "metadata": {
        "id": "lS_NGYWqXLB_"
      },
      "source": [
        "## Run the export\n",
        "\n",
        "toaList = collection.toList(collection.size())\n",
        "boaList = boaCollection.toList(boaCollection.size())\n",
        "boaSize = boaList.size().getInfo()\n",
        "\n",
        "print('Wait for submission')\n",
        "\n",
        "for i in range(boaSize):\n",
        "    ## Copy properties from the original image\n",
        "    toa = ee.Image(toaList.get(i))\n",
        "    image = ee.Image(boaList.get(i))\n",
        "    \n",
        "    ## Set the scale properly\n",
        "    scale = []\n",
        "    sat = []\n",
        "    tile = []\n",
        "    if 'Sentinel' in mission:\n",
        "        sat = 'Sentinel'\n",
        "        scale = 10 #For Sentinel\n",
        "        tile = (image.getInfo()['properties']['MGRS_TILE'])\n",
        "    else:\n",
        "        sat = 'Landsat'\n",
        "        scale = 30 #For Landsat \n",
        "        tile = str(image.getInfo()['properties']['WRS_PATH'])+str(image.getInfo()['properties']['WRS_ROW'])\n",
        "    \n",
        "    ## Get properties from each image\n",
        "    imgID = toa.getInfo()['properties']['system:index'] #The solution is copying the id from the original collection.\n",
        "    date = datetime.datetime.utcfromtimestamp(image.get('system:time_start').getInfo()/1000).strftime(\"%Y-%m-%d\")\n",
        "    tileID = tile\n",
        "    \n",
        "    ## Set some properties for export\n",
        "    output = image.set({'satellite': mission,\n",
        "                   'tile_id': str(tileID),\n",
        "                   'file_id': imgID,                                               \n",
        "                   'date': date,\n",
        "                   'generator': 'Lizcano-Sandoval',\n",
        "                        })\n",
        "\n",
        "    ## Define YOUR assetID. (This do not create folders, you need to create them manually)\n",
        "    assetID = userAsset+sat+'/'+outputFolder+'/' ##This goes to an ImageCollection folder\n",
        "    fileName = str(tileID) + '_' + imgID +'_BOA'\n",
        "    path = assetID + fileName\n",
        "\n",
        "    ## Batch Export to Assets\n",
        "    ee.batch.Export.image.toAsset(\\\n",
        "        image = ee.Image(output),                                                    \n",
        "        description = 'BOA_'+imgID,\n",
        "        assetId = path,\n",
        "        region = image.geometry().buffer(10),                                      \n",
        "        maxPixels = 1e9,\n",
        "        scale = scale).start()\n",
        "    print('Image '+str(i+1)+': '+imgID+' submitted...')\n",
        "print('All images submitted!')"
      ],
      "execution_count": null,
      "outputs": []
    },
    {
      "cell_type": "code",
      "metadata": {
        "id": "P93_mFTtXLB_"
      },
      "source": [
        ""
      ],
      "execution_count": null,
      "outputs": []
    }
  ]
}