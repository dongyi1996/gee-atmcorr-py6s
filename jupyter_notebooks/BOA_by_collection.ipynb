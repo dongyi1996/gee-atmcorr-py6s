{
 "cells": [
  {
   "cell_type": "markdown",
   "metadata": {},
   "source": [
    "# Multi-Sensor Atmospheric Correction in Google Earth Engine"
   ]
  },
  {
   "cell_type": "markdown",
   "metadata": {},
   "source": [
    "**Description:** This script allows to do atmospheric correction for list of images of Sentinel-2 and Landsat sensors, especifically for images over coastal or oceanic areas. These settings can be modified from the *parameters.py* module to work with images over inland areas (See line 36 in that module). The script does AC automatically, the user only needs to provide the right **mission**, **imageID**, and specific **assetID** to export the processed image to your EE Assets.<br/>\n",
    "More sensors can be added by modifying the *mission_specifics.py* and *parameters.py* modules to properly work with the available collections in GEE and [Py6S](https://github.com/robintw/Py6S/blob/master/Py6S/Params/wavelength.py).<br/>\n",
    "\n",
    "Script modified from https://github.com/samsammurphy/gee-atmcorr-S2<br/>\n",
    "By Luis Lizcano-Sandoval<br/>\n",
    "College of Marine Science, University of South Florida<br/>\n",
    "10/14/2020<br/>"
   ]
  },
  {
   "cell_type": "markdown",
   "metadata": {},
   "source": [
    "### Import modules and initialize Earth Engine\n",
    "\n"
   ]
  },
  {
   "cell_type": "code",
   "execution_count": null,
   "metadata": {},
   "outputs": [],
   "source": [
    "import ee\n",
    "from Py6S import *\n",
    "import datetime\n",
    "import math\n",
    "import os\n",
    "import sys\n",
    "sys.path.append(os.path.join(os.path.dirname(os.getcwd()),'bin'))\n",
    "from atmospheric import Atmospheric\n",
    "import mission_specifics as mn\n",
    "from parameters import BOA\n",
    "import timeit\n",
    "\n",
    "ee.Initialize()"
   ]
  },
  {
   "cell_type": "markdown",
   "metadata": {},
   "source": [
    "### Earth Engine Collections\n",
    "Set the collection of interest using one this specific categories:\n"
   ]
  },
  {
   "cell_type": "code",
   "execution_count": null,
   "metadata": {},
   "outputs": [],
   "source": [
    "#mission = 'Sentinel2'\n",
    "mission = 'Landsat8'\n",
    "#mission = 'Landsat7'\n",
    "#mission = 'Landsat5'"
   ]
  },
  {
   "cell_type": "markdown",
   "metadata": {},
   "source": [
    "### Image ID's\n",
    "Paste the list of image IDs."
   ]
  },
  {
   "cell_type": "code",
   "execution_count": null,
   "metadata": {},
   "outputs": [],
   "source": [
    "# imageID = ['20190203T160459_20190203T160859_T17RMH',\n",
    "#  '20190228T160211_20190228T160836_T17RMH',\n",
    "#  '20191125T160611_20191125T161352_T17RMH',\n",
    "#  '20191105T160441_20191105T161109_T17RMH',\n",
    "#  '20190208T160421_20190208T161051_T17RMH',\n",
    "#  '20191130T160619_20191130T160655_T17RMH',\n",
    "#  '20190302T160509_20190302T160509_T17RMH',\n",
    "#  '20191210T160639_20191210T160735_T17RMH',\n",
    "#  '20191215T160651_20191215T161517_T17RMH',\n",
    "#  '20191016T160241_20191016T161055_T17RMH',\n",
    "#  '20190215T160511_20190215T160508_T17RMH',\n",
    "#  '20190411T160519_20190411T160516_T17RMH',\n",
    "#  '20190129T160521_20190129T161214_T17RMH',\n",
    "#  '20191110T160459_20191110T160501_T17RMH'] #Sentinel-2\n",
    "imageID = ['LC08_017040_20191013', 'LC08_017040_20191130'] #Landsat8\n",
    "#imageID = 'LE07_006038_20020315' #Landsat7\n",
    "#imageID = 'LT05_017040_20061009' #Landsat5\n",
    "\n",
    "## Sort list\n",
    "imageID = sorted(imageID)\n",
    "print(sorted(imageID))"
   ]
  },
  {
   "cell_type": "markdown",
   "metadata": {},
   "source": [
    "### Load Collection\n",
    "Get the respective scenes from the collection"
   ]
  },
  {
   "cell_type": "code",
   "execution_count": null,
   "metadata": {
    "scrolled": true
   },
   "outputs": [],
   "source": [
    "# Load collection\n",
    "collection = ee.ImageCollection(mn.eeCollection(mission)).filter(ee.Filter.inList('system:index',imageID))\n",
    "firstImage = collection.first()\n",
    "count = collection.size()\n",
    "print('Number of images in this collection: ', count.getInfo())\n",
    "\n",
    "#  ImageCollection to List           \n",
    "col_list = collection.toList(count) #ee.List\n",
    "#col_size = col_list.size().getInfo() #Python list\n",
    "#print(col_size)\n",
    "\n",
    "# Select an image for debugging\n",
    "for i in range(count.getInfo()):\n",
    "    image = col_list.get(i)#first()\n",
    "    print('Image '+str(i)+':', image.getInfo()['properties']['system:index'])\n",
    "\n",
    "# Date\n",
    "dateString = datetime.datetime.utcfromtimestamp(firstImage.get('system:time_start').getInfo()/1000).strftime(\"%Y-%m-%d\")\n",
    "print('Date-First Image: ',dateString)\n",
    "\n",
    "# If working with S-2, then identify whether the sensor is Sentinel-2A or Sentinel-2B, and rename the variable 'mission'\n",
    "if 'Sentinel2' == mission:\n",
    "    mission = str(firstImage.getInfo()['properties']['SPACECRAFT_NAME'])\n",
    "print('Mission: ', mission)"
   ]
  },
  {
   "cell_type": "markdown",
   "metadata": {},
   "source": [
    "### Atmospheric Correction\n",
    "Available bands available for atmospheric correction for each sensor, according to the [Py6S module](https://github.com/robintw/Py6S/blob/master/Py6S/Params/wavelength.py): <br/>\n",
    "* **Sentinel2:** ['B1', 'B2', 'B3', 'B4', 'B5', 'B6', 'B7', 'B8', 'B8A', 'B9', 'B10', 'B11', 'B12'],<br/>\n",
    "* **Landsat8:** ['B1','B2','B3','B4','B5','B6','B7','B8','B9'],<br/>\n",
    "* **Landsat7:** ['B1','B2','B3','B4','B5','B7'],<br/>\n",
    "* **Landsat5:** ['B1','B2','B3','B4','B5','B7'],<br/>\n",
    "* **Landsat4:** ['B1','B2','B3','B4','B5','B7']<br/>\n",
    "\n",
    "The respective cloud mask band will be preserved after the correction:<br/>\n",
    "* **Sentinel2:** 'QA60',<br/>\n",
    "* **Landsat sensors:** 'BQA'"
   ]
  },
  {
   "cell_type": "markdown",
   "metadata": {},
   "source": [
    "**NOTE:** The function *positive* will convert any negative value to 0.0001 in all bands. For Sentinel-2, the bands B1,B2,B3,B4 are more susceptible to present negative values in very dark/coastal areas. I have compared those areas using Sentinel-2 L2A images and it seems they do the same: dark areas showing default minimum valid pixel values of 0.0001. B8 might show negative reflectances on coastal and oceanic areas, but not on cloudy pixels, so it does not affect cloud masking procedures. In my case, bands B8, B11, B12 are only used for masking clouds. If you need to use these bands for other purposes just check that the areas of negative values are not large, otherwise I would not recommend to use them (it is up to you). The negative reflectances might be due to overestimations of aerosols at sea-level in coastal areas and suspendend particles in water. Landsat sensors may show a similar behaviour. Band B10 should not be provided as a surface reflectance output, because it does not provide information on the surface but on the cirrus clouds [[Main-Knorn et al. 2017]](https://www.researchgate.net/publication/320231869_Sen2Cor_for_Sentinel-2). "
   ]
  },
  {
   "cell_type": "code",
   "execution_count": null,
   "metadata": {},
   "outputs": [],
   "source": [
    "## Default bands of interest:\n",
    "if 'Sentinel' in mission:\n",
    "    bands = ['B1','B2','B3','B4','B5','B8','B11','B12'] #Sentinel-2\n",
    "elif 'Landsat8' in mission:\n",
    "    bands = ['B1','B2','B3','B4','B5','B6','B7'] #Landsat-8\n",
    "else:\n",
    "    bands = ['B1','B2','B3','B4','B5','B7'] #Landsat-7/5"
   ]
  },
  {
   "cell_type": "code",
   "execution_count": null,
   "metadata": {
    "scrolled": true
   },
   "outputs": [],
   "source": [
    "## Function\n",
    "## Surface reflectance (You can add more bands as desired, according to the above info)\n",
    "def getBOA(coll, miss):\n",
    "    List = coll.toList(coll.size())\n",
    "    Size = List.size().getInfo()\n",
    "    boaColl = ee.ImageCollection([])\n",
    "    \n",
    "    for i in range(Size):\n",
    "        get = imageID[i]\n",
    "        \n",
    "        if 'Sentinel' in miss:\n",
    "            miss = 'Sentinel2'\n",
    "        \n",
    "        img = ee.Image(mn.eeCollection(miss) + '/'+ get)\n",
    "        imgInfo= ee.Image(img)        \n",
    "        print('Processing Image '+str(i+1)+':', img.getInfo()['properties']['system:index'])\n",
    "        \n",
    "        ## Extract cloud band and thermal band for Landsat\n",
    "        qa = []\n",
    "        if 'Sentinel' in mission:\n",
    "            qa = img.select('QA60')#For Sentinel\n",
    "        elif 'Landsat8' in mission:\n",
    "            qa = img.select('BQA') #For Landsat-8\n",
    "            thermal = img.select('B10')\n",
    "        elif 'Landsat7' in mission:\n",
    "            qa = img.select('BQA') #For Landsat7\n",
    "            thermal = img.select('B6_VCID_1')\n",
    "        else:\n",
    "            qa = img.select('BQA') #For Landsat5\n",
    "            thermal = img.select('B6')\n",
    "        \n",
    "        if 'Sentinel2' == miss:\n",
    "            miss = str(img.getInfo()['properties']['SPACECRAFT_NAME'])\n",
    "            print('Mission: ', miss)\n",
    "        \n",
    "        output = ee.Image()\n",
    "        for i in range(len(bands)):\n",
    "            ## Get BOA reflectance for the respective band.\n",
    "            b = BOA(miss, img, bands[i])\n",
    "\n",
    "            ## Function to convert negative reflectances to 0.0001\n",
    "            def positive(band):\n",
    "                    ## If there is masked areas, unmask them and assign a specific pixel value different from 0.0001.\n",
    "                    ## Sometimes Sentinel-2 tiles present cut off corners.\n",
    "                    unmasked = band.unmask(9999)\n",
    "\n",
    "                    ## Take all the positive pixel values and assing 0.0001 values to all negative ones.\n",
    "                    b = unmasked.gt(0)\n",
    "                    b_mask = unmasked.mask(b)\n",
    "                    b_unmasked = b_mask.unmask(0.0001)\n",
    "\n",
    "                    ## Re-mask the areas with 9999 values\n",
    "                    remask = b_unmasked.neq(9999)\n",
    "\n",
    "                    return ee.Image(b_unmasked).mask(remask)\n",
    "\n",
    "            ## Bands to convert to positive.\n",
    "            bPos = positive(b)\n",
    "\n",
    "            ## Getting all the bands together\n",
    "            output = output.addBands(bPos)\n",
    "            \n",
    "        ## Add QA band\n",
    "        output = output.addBands(qa)\n",
    "        \n",
    "        ## Add thermal band if this is a Landsat image\n",
    "        if 'Landsat' in mission:\n",
    "            output = output.addBands(thermal)\n",
    "        \n",
    "        ## Copy properties from the original image\n",
    "        output = output.set(img.toDictionary(img.propertyNames()))\n",
    "            \n",
    "        #print('Processed Image '+str(i)+':', output.getInfo()['properties']['system:index'])\n",
    "        print('Done!')\n",
    "        \n",
    "        boaColl = boaColl.merge(ee.ImageCollection(output))\n",
    "    \n",
    "    return boaColl"
   ]
  },
  {
   "cell_type": "markdown",
   "metadata": {},
   "source": [
    "Run atmospheric correction (for Sentinel, it takes ~20s per image (8 bands))."
   ]
  },
  {
   "cell_type": "code",
   "execution_count": null,
   "metadata": {},
   "outputs": [],
   "source": [
    "%%time\n",
    "boaCollection = getBOA(collection, mission)"
   ]
  },
  {
   "cell_type": "markdown",
   "metadata": {},
   "source": [
    "### Display results\n",
    "Shows an image as example."
   ]
  },
  {
   "cell_type": "code",
   "execution_count": null,
   "metadata": {},
   "outputs": [],
   "source": [
    "from IPython.display import display, Image\n",
    "\n",
    "boaImage = boaCollection.first()\n",
    "region = boaImage.geometry().buffer(5000).bounds().getInfo()['coordinates']\n",
    "\n",
    "# RGB Bands\n",
    "channels = []\n",
    "if 'Sentinel' in mission or 'Landsat8' == mission:\n",
    "    channels = ['B4','B3','B2'] #For Sentinel & Landsat8\n",
    "else:\n",
    "    channels = ['B3','B2','B1'] #For Landsat7-5-4\n",
    "\n",
    "# Display images:\n",
    "original = Image(url=mn.TOA(firstImage,mission).select(channels).getThumbUrl({\n",
    "    'dimensions': '1000x1000',\n",
    "    'min':0,\n",
    "    'max':0.25\n",
    "    }))\n",
    "\n",
    "corrected = Image(url=boaImage.select(channels).getThumbUrl({\n",
    "    'dimensions': '1000x1000',\n",
    "    'min':0,\n",
    "    'max':0.25,\n",
    "    'gamma':1.5\n",
    "    }))\n",
    "\n",
    "display(original, corrected)"
   ]
  },
  {
   "cell_type": "markdown",
   "metadata": {},
   "source": [
    "### Export to Asset"
   ]
  },
  {
   "cell_type": "markdown",
   "metadata": {},
   "source": [
    "NOTE: \n",
    "* Be aware that each band will be resampled at the scale used to export the image. This will impact the size of the exported file.\n",
    "* A Sentinel-2 image with 8 bands at 10m res each can occupy ~1.5 gb.\n",
    "* A Sentinel-2 image with 8 bands can take ~4-8 min to ingest."
   ]
  },
  {
   "cell_type": "code",
   "execution_count": null,
   "metadata": {},
   "outputs": [],
   "source": [
    "## Run the export\n",
    "\n",
    "toaList = collection.toList(collection.size())\n",
    "boaList = boaCollection.toList(boaCollection.size())\n",
    "boaSize = boaList.size().getInfo()\n",
    "print('Wait for submission')\n",
    "\n",
    "for i in range(boaSize):\n",
    "    ## Copy properties from the original image\n",
    "    toa = ee.Image(toaList.get(i))\n",
    "    image = ee.Image(boaList.get(i))\n",
    "    #image = boa.set(toa.toDictionary(toa.propertyNames()))\n",
    "    \n",
    "    ## Set the scale properly\n",
    "    scale = []\n",
    "    sat = []\n",
    "    tile = []\n",
    "    if 'Sentinel' in mission:\n",
    "        sat = 'Sentinel'\n",
    "        scale = 10 #For Sentinel\n",
    "        tile = (image.getInfo()['properties']['MGRS_TILE'])\n",
    "    else:\n",
    "        sat = 'Landsat'\n",
    "        scale = 30 #For Landsat \n",
    "        tile = (image.getInfo()['properties']['WRS_PATH'])+(image.getInfo()['properties']['WRS_ROW'])\n",
    "    \n",
    "    ## Get properties from each image\n",
    "    #imgID = image.getInfo()['properties']['system:index'] #This is returning a weird system:index\n",
    "    imgID = toa.getInfo()['properties']['system:index'] #The solution is copying the id from the original collection.\n",
    "    #print(imgID)\n",
    "    date = datetime.datetime.utcfromtimestamp(image.get('system:time_start').getInfo()/1000).strftime(\"%Y-%m-%d\")\n",
    "    tileID = tile\n",
    "    \n",
    "    ## Set some properties for export\n",
    "    output = image.set({'satellite': mission,\n",
    "                   'tile_id': tileID,\n",
    "                   'file_id': imgID,                                               \n",
    "                   'date': date,\n",
    "                   'generator': 'Lizcano-Sandoval',\n",
    "                        })\n",
    "\n",
    "    ## Define YOUR assetID. (This do not create folders, you need to create them manually)\n",
    "    assetID = 'users/lizcanosandoval/BOA/'+sat+'/'+'FL_19/' ##This goes to an ImageCollection folder\n",
    "    fileName = tileID+'_'+imgID+'_BOA'\n",
    "    path = assetID + fileName\n",
    "\n",
    "    ## Batch Export to Assets\n",
    "    ee.batch.Export.image.toAsset(\\\n",
    "        image = ee.Image(output),                                                    \n",
    "        description = 'S2_BOA_'+imgID,\n",
    "        assetId = path,\n",
    "        region = image.geometry().buffer(10),                                      \n",
    "        maxPixels = 1e9,\n",
    "        scale = scale).start()\n",
    "    print('Image '+str(i+1)+': '+imgID+' submitted...')\n",
    "print('All images submitted!')"
   ]
  },
  {
   "cell_type": "code",
   "execution_count": null,
   "metadata": {},
   "outputs": [],
   "source": []
  }
 ],
 "metadata": {
  "anaconda-cloud": {},
  "kernelspec": {
   "display_name": "Python 3",
   "language": "python",
   "name": "python3"
  },
  "language_info": {
   "codemirror_mode": {
    "name": "ipython",
    "version": 3
   },
   "file_extension": ".py",
   "mimetype": "text/x-python",
   "name": "python",
   "nbconvert_exporter": "python",
   "pygments_lexer": "ipython3",
   "version": "3.8.5"
  }
 },
 "nbformat": 4,
 "nbformat_minor": 2
}
