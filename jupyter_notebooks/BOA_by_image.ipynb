{
 "cells": [
  {
   "cell_type": "markdown",
   "metadata": {},
   "source": [
    "# Multi-Sensor Atmospheric Correction in Google Earth Engine"
   ]
  },
  {
   "cell_type": "markdown",
   "metadata": {},
   "source": [
    "**Description:** This script allows to do atmospheric correction on only individual images of Sentinel-2 and Landsat sensors, especifically for images over coastal or oceanic areas. These settings can be modified from the *parameters.py* module to work with images over inland areas (See line 36 in that module). The script does AC automatically, the user only needs to provide the right **mission**, **imageID**, and specific **assetID** to export the processed image to your EE Assets.<br/>\n",
    "More sensors can be added by modifying the *mission_specifics.py* and *parameters.py* modules to properly work with the available collections in GEE and [Py6S](https://github.com/robintw/Py6S/blob/master/Py6S/Params/wavelength.py).<br/>\n",
    "\n",
    "Script modified from https://github.com/samsammurphy/gee-atmcorr-S2<br/>\n",
    "By Luis Lizcano-Sandoval<br/>\n",
    "College of Marine Science, University of South Florida<br/>\n",
    "09/25/2020<br/>"
   ]
  },
  {
   "cell_type": "markdown",
   "metadata": {},
   "source": [
    "### Import modules and initialize Earth Engine\n",
    "\n"
   ]
  },
  {
   "cell_type": "code",
   "execution_count": 10,
   "metadata": {},
   "outputs": [],
   "source": [
    "import ee\n",
    "from Py6S import *\n",
    "import datetime\n",
    "import math\n",
    "import os\n",
    "import sys\n",
    "sys.path.append(os.path.join(os.path.dirname(os.getcwd()),'bin'))\n",
    "from atmospheric import Atmospheric\n",
    "import mission_specifics as mn\n",
    "from parameters import BOA\n",
    "import timeit\n",
    "\n",
    "ee.Initialize()"
   ]
  },
  {
   "cell_type": "markdown",
   "metadata": {},
   "source": [
    "### Earth Engine Collections\n",
    "Set the collection of interest using one this specific categories:\n"
   ]
  },
  {
   "cell_type": "code",
   "execution_count": 11,
   "metadata": {},
   "outputs": [],
   "source": [
    "mission = 'Sentinel2'\n",
    "#mission = 'Landsat8'\n",
    "#mission = 'Landsat7'\n",
    "#mission = 'Landsat5'"
   ]
  },
  {
   "cell_type": "markdown",
   "metadata": {},
   "source": [
    "### Image ID\n",
    "Paste the ID of your target image."
   ]
  },
  {
   "cell_type": "code",
   "execution_count": 12,
   "metadata": {},
   "outputs": [],
   "source": [
    "imageID = '20190822T155829_20190822T161509_T17RLM' #Sentinel-2\n",
    "#imageID = 'LC08_006038_20141002' #Landsat8\n",
    "#imageID = 'LE07_006038_20020315' #Landsat7\n",
    "#imageID = 'LT05_017040_20061009' #Landsat5"
   ]
  },
  {
   "cell_type": "markdown",
   "metadata": {},
   "source": [
    "### Load image\n",
    "Get the respective scene from the collection"
   ]
  },
  {
   "cell_type": "code",
   "execution_count": 13,
   "metadata": {
    "scrolled": true
   },
   "outputs": [
    {
     "name": "stdout",
     "output_type": "stream",
     "text": [
      "Image:  20190822T155829_20190822T161509_T17RLM\n",
      "Date:  2019-08-22\n",
      "Mission:  Sentinel-2B\n"
     ]
    }
   ],
   "source": [
    "# Load image\n",
    "image = ee.Image(mn.eeCollection(mission) +'/'+ imageID)\n",
    "print('Image: ', image.getInfo()['properties']['system:index'])\n",
    "\n",
    "# Date\n",
    "dateString = datetime.datetime.utcfromtimestamp(image.get('system:time_start').getInfo()/1000).strftime(\"%Y-%m-%d\")\n",
    "print('Date: ',dateString)\n",
    "\n",
    "# If working with S-2, then identify whether the sensor is Sentinel-2A or Sentinel-2B, and rename the variable 'mission'\n",
    "if 'Sentinel2' == mission:\n",
    "    mission = str(image.getInfo()['properties']['SPACECRAFT_NAME'])\n",
    "print('Mission: ', mission)"
   ]
  },
  {
   "cell_type": "markdown",
   "metadata": {},
   "source": [
    "### Atmospheric Correction\n",
    "Available bands available for atmospheric correction for each sensor, according to the [Py6S module](https://github.com/robintw/Py6S/blob/master/Py6S/Params/wavelength.py): <br/>\n",
    "* **Sentinel2:** ['B1', 'B2', 'B3', 'B4', 'B5', 'B6', 'B7', 'B8', 'B8A', 'B9', 'B10', 'B11', 'B12'],<br/>\n",
    "* **Landsat8:** ['B1','B2','B3','B4','B5','B6','B7','B8','B9'],<br/>\n",
    "* **Landsat7:** ['B1','B2','B3','B4','B5','B7'],<br/>\n",
    "* **Landsat5:** ['B1','B2','B3','B4','B5','B7'],<br/>\n",
    "* **Landsat4:** ['B1','B2','B3','B4','B5','B7']<br/>\n",
    "\n",
    "The respective cloud mask band will be preserved after the correction:<br/>\n",
    "* **Sentinel2:** 'QA60',<br/>\n",
    "* **Landsat sensors:** 'BQA'"
   ]
  },
  {
   "cell_type": "code",
   "execution_count": 14,
   "metadata": {
    "scrolled": true
   },
   "outputs": [
    {
     "name": "stdout",
     "output_type": "stream",
     "text": [
      "Wall time: 19.4 s\n"
     ]
    }
   ],
   "source": [
    "%%time\n",
    "print('Processing...')\n",
    "# Surface reflectance (You can add more bands as desired, according to the above info)\n",
    "b1 = BOA(mission, image, 'B1')\n",
    "b2 = BOA(mission, image, 'B2')\n",
    "b3 = BOA(mission, image, 'B3')\n",
    "b4 = BOA(mission, image, 'B4')\n",
    "b5 = BOA(mission, image, 'B5')\n",
    "b8 = BOA(mission, image, 'B8')\n",
    "b11 = BOA(mission, image, 'B11')\n",
    "b12 = BOA(mission, image, 'B12')\n",
    "\n",
    "# Cloud mask band\n",
    "qa = []\n",
    "if 'Sentinel' in mission:\n",
    "    qa = image.select('QA60')#For Sentinel\n",
    "else:\n",
    "    qa = image.select('BQA') #For Landsat"
   ]
  },
  {
   "cell_type": "markdown",
   "metadata": {},
   "source": [
    "**NOTE:** The function *positive* will convert any negative value to 0.0001 in all bands. For Sentinel-2, the bands B1,B2,B3,B4 are more susceptible to present negative values in very dark/coastal areas. I have compared those areas using Sentinel-2 L2A images and it seems they do the same: dark areas showing default minimum valid pixel values of 0.0001. B8 might show negative reflectances on coastal and oceanic areas, but not on cloudy pixels, so it does not affect cloud masking procedures. In my case, bands B8, B11, B12 are only used for masking clouds. If you need to use these bands for other purposes just check that the areas of negative values are not large, otherwise I would not recommend to use them (it is up to you). The negative reflectances might be due to overestimations of aerosols at sea-level in coastal areas and suspendend particles in water. Landsat sensors may show a similar behaviour. Band B10 should not be provided as a surface reflectance output, because it does not provide information on the surface but on the cirrus clouds [[Main-Knorn et al. 2017]](https://www.researchgate.net/publication/320231869_Sen2Cor_for_Sentinel-2). "
   ]
  },
  {
   "cell_type": "code",
   "execution_count": 15,
   "metadata": {},
   "outputs": [],
   "source": [
    "## Function to convert negative reflectances to 0.0001\n",
    "def positive(band):\n",
    "    b = band.gt(0)\n",
    "    b_mask = band.mask(b)\n",
    "    return ee.Image(b_mask).unmask(0.0001)\n",
    "\n",
    "## Bands to convert to positive.\n",
    "b1m = positive(b1)\n",
    "b2m = positive(b2)\n",
    "b3m = positive(b3)\n",
    "b4m = positive(b4)\n",
    "b5m = positive(b5)\n",
    "b8m = positive(b8)\n",
    "b11m = positive(b11)\n",
    "b12m = positive(b12)\n",
    "\n",
    "## Getting all the bands together\n",
    "output = b1m.addBands(b2m).addBands(b3m).addBands(b4m).addBands(b5m)\\\n",
    "        .addBands(b8m).addBands(b11m).addBands(b12m).addBands(qa)\n",
    "\n",
    "## Copy properties from the original image\n",
    "output = output.set(image.toDictionary(image.propertyNames()))"
   ]
  },
  {
   "cell_type": "markdown",
   "metadata": {},
   "source": [
    "### Display results"
   ]
  },
  {
   "cell_type": "code",
   "execution_count": 7,
   "metadata": {},
   "outputs": [
    {
     "data": {
      "text/html": [
       "<img src=\"https://earthengine.googleapis.com/v1alpha/projects/earthengine-legacy/thumbnails/d7e5f87d9376f1f7159cc1cf7e6b11ba-36db99cc167c7320d8dfd8bd7884ce6b:getPixels\"/>"
      ],
      "text/plain": [
       "<IPython.core.display.Image object>"
      ]
     },
     "metadata": {},
     "output_type": "display_data"
    },
    {
     "data": {
      "text/html": [
       "<img src=\"https://earthengine.googleapis.com/v1alpha/projects/earthengine-legacy/thumbnails/cbf6e1ff58b9fe32a7c951719ffacb7a-5b00fe5328e6468f793c1dd08679d7c4:getPixels\"/>"
      ],
      "text/plain": [
       "<IPython.core.display.Image object>"
      ]
     },
     "metadata": {},
     "output_type": "display_data"
    }
   ],
   "source": [
    "from IPython.display import display, Image\n",
    "\n",
    "region = image.geometry().buffer(5000).bounds().getInfo()['coordinates']\n",
    "\n",
    "# RGB Bands\n",
    "channels = []\n",
    "if 'Sentinel' in mission or 'Landsat8' == mission:\n",
    "    channels = ['B4','B3','B2'] #For Sentinel & Landsat8\n",
    "else:\n",
    "    channels = ['B3','B2','B1'] #For Landsat7-5-4\n",
    "\n",
    "# Display images:\n",
    "original = Image(url=mn.TOA(image,mission).select(channels).getThumbUrl({\n",
    "    'dimensions': '1000x1000',\n",
    "    'min':0,\n",
    "    'max':0.25\n",
    "    }))\n",
    "\n",
    "corrected = Image(url=output.select(channels).getThumbUrl({\n",
    "    'dimensions': '1000x1000',\n",
    "    'min':0,\n",
    "    'max':0.25,\n",
    "    'gamma':1.5\n",
    "    }))\n",
    "\n",
    "display(original, corrected)"
   ]
  },
  {
   "cell_type": "markdown",
   "metadata": {},
   "source": [
    "### Export to Asset"
   ]
  },
  {
   "cell_type": "markdown",
   "metadata": {},
   "source": [
    "NOTE: \n",
    "* Be aware that each band will be resampled at the scale used to export the image. This will impact the size of the exported file.\n",
    "* A Sentinel-2 image with 8 bands at 10m res each can occupy ~1.5 gb.\n",
    "* A Sentinel-2 image with 8 bands can take ~4-8 min to ingest."
   ]
  },
  {
   "cell_type": "code",
   "execution_count": 16,
   "metadata": {},
   "outputs": [],
   "source": [
    "# Set the scale properly\n",
    "scale = []\n",
    "sat = []\n",
    "tile = []\n",
    "if 'Sentinel' in mission:\n",
    "    sat = 'Sentinel'\n",
    "    scale = 10 #For Sentinel\n",
    "    tile = image.getInfo()['properties']['MGRS_TILE']\n",
    "else:\n",
    "    sat = 'Landsat'\n",
    "    scale = 30 #For Landsat \n",
    "    tile = (image.getInfo()['properties']['WRS_PATH'])+(image.getInfo()['properties']['WRS_ROW'])\n",
    "    \n",
    "# set some properties for export\n",
    "output = output.set({'satellite': mission,\n",
    "               'tile_id': tile,\n",
    "               'file_id': imageID,                                               \n",
    "               'date': dateString,\n",
    "               'generator': 'Lizcano-Sandoval',\n",
    "                    })\n",
    "\n",
    "# define YOUR assetID. (This do not create folders, you need to create them manually)\n",
    "assetID = 'users/lizcanosandoval/BOA/'+sat+'/'+'FL_19/' ##This goes to an ImageCollection folder\n",
    "fileName = tile+'_'+imageID+'_BOA'\n",
    "path = assetID + fileName"
   ]
  },
  {
   "cell_type": "code",
   "execution_count": 17,
   "metadata": {},
   "outputs": [],
   "source": [
    "## export\n",
    "export = ee.batch.Export.image.toAsset(\\\n",
    "        image = output,                                                    \n",
    "        description = 'S2_BOA_'+imageID,\n",
    "        assetId = path,\n",
    "        region = image.geometry().buffer(10),                                      \n",
    "        maxPixels = 1e9,\n",
    "        scale = scale)\n",
    "\n",
    "# # uncomment to run the export\n",
    "export.start() "
   ]
  },
  {
   "cell_type": "code",
   "execution_count": null,
   "metadata": {},
   "outputs": [],
   "source": []
  }
 ],
 "metadata": {
  "anaconda-cloud": {},
  "kernelspec": {
   "display_name": "Python 3",
   "language": "python",
   "name": "python3"
  },
  "language_info": {
   "codemirror_mode": {
    "name": "ipython",
    "version": 3
   },
   "file_extension": ".py",
   "mimetype": "text/x-python",
   "name": "python",
   "nbconvert_exporter": "python",
   "pygments_lexer": "ipython3",
   "version": "3.8.5"
  }
 },
 "nbformat": 4,
 "nbformat_minor": 2
}
